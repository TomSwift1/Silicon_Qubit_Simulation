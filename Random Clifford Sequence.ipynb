{
 "cells": [
  {
   "cell_type": "code",
   "execution_count": 1,
   "metadata": {},
   "outputs": [
    {
     "name": "stderr",
     "output_type": "stream",
     "text": [
      "<ipython-input-1-1ff0110cb559>:2: DeprecationWarning: Importation from qutip.qip.gates is deprecated.Please use e.g.\n",
      " from qutip.qip.operations import cnot\n",
      "\n",
      "  from qutip.qip.gates import rx,ry\n"
     ]
    }
   ],
   "source": [
    "from qutip.operators import qeye\n",
    "from qutip.qip.gates import rx,ry\n",
    "from qutip.states import basis\n",
    "from numpy import pi\n",
    "import random\n",
    "from random_single_clifford import random_single_clifford, random_clifford_sequence"
   ]
  },
  {
   "cell_type": "markdown",
   "metadata": {},
   "source": [
    "# Single Qubit Clifford Gates"
   ]
  },
  {
   "cell_type": "markdown",
   "metadata": {},
   "source": [
    "Set of gates is {I,$X_{\\frac{\\pi}{2}}$,$Y_{\\frac{\\pi}{2}}$,$X_{\\pi}$,$X_{\\pi}$}"
   ]
  },
  {
   "cell_type": "code",
   "execution_count": 2,
   "metadata": {},
   "outputs": [],
   "source": [
    "cliff_gates = [qeye(2),rx(pi/2),ry(pi/2),rx(pi),ry(pi)]"
   ]
  },
  {
   "cell_type": "code",
   "execution_count": 3,
   "metadata": {},
   "outputs": [
    {
     "name": "stdout",
     "output_type": "stream",
     "text": [
      "Quantum object: dims = [[2], [2]], shape = (2, 2), type = oper, isherm = False\n",
      "Qobj data =\n",
      "[[ 0.70710678 -0.70710678]\n",
      " [ 0.70710678  0.70710678]]\n",
      "Quantum object: dims = [[2], [2]], shape = (2, 2), type = oper, isherm = False\n",
      "Qobj data =\n",
      "[[0.70710678+0.j         0.        -0.70710678j]\n",
      " [0.        -0.70710678j 0.70710678+0.j        ]]\n"
     ]
    }
   ],
   "source": [
    "for i in range(2):\n",
    "    print(random.choice(cliff_gates))"
   ]
  },
  {
   "cell_type": "markdown",
   "metadata": {},
   "source": [
    "Now within a function"
   ]
  },
  {
   "cell_type": "markdown",
   "metadata": {},
   "source": [
    "## Create sequence of Clifford gates"
   ]
  },
  {
   "cell_type": "markdown",
   "metadata": {},
   "source": [
    "Important to note that last gate must be inverse of all other gates. Also need to bear in mind the sequencing of the gates in the list and in which order they are applied."
   ]
  },
  {
   "cell_type": "code",
   "execution_count": 4,
   "metadata": {},
   "outputs": [],
   "source": [
    "n_gates = 3"
   ]
  },
  {
   "cell_type": "code",
   "execution_count": 5,
   "metadata": {},
   "outputs": [],
   "source": [
    "sequence = [None]*n_gates\n",
    "final = qeye(2)\n",
    "for i in range(n_gates-1):\n",
    "    a_random_clifford = random_single_clifford()\n",
    "    sequence[i] = a_random_clifford\n",
    "    final = a_random_clifford*final\n",
    "    \n",
    "sequence[n_gates-1] = final.inv()"
   ]
  },
  {
   "cell_type": "code",
   "execution_count": 6,
   "metadata": {},
   "outputs": [
    {
     "name": "stdout",
     "output_type": "stream",
     "text": [
      "Quantum object: dims = [[2], [1]], shape = (2, 1), type = ket\n",
      "Qobj data =\n",
      "[[1.]\n",
      " [0.]]\n"
     ]
    }
   ],
   "source": [
    "stat_0 = basis(2,0)\n",
    "\n",
    "for gate in sequence:\n",
    "    stat_0 = gate*stat_0\n",
    "    \n",
    "print(stat_0)"
   ]
  },
  {
   "cell_type": "markdown",
   "metadata": {},
   "source": [
    "Now in a function"
   ]
  },
  {
   "cell_type": "code",
   "execution_count": 7,
   "metadata": {},
   "outputs": [],
   "source": [
    "sequence = random_clifford_sequence(10)"
   ]
  },
  {
   "cell_type": "code",
   "execution_count": 8,
   "metadata": {},
   "outputs": [
    {
     "data": {
      "text/plain": [
       "[Quantum object: dims = [[2], [2]], shape = (2, 2), type = oper, isherm = False\n",
       " Qobj data =\n",
       " [[ 0.70710678 -0.70710678]\n",
       "  [ 0.70710678  0.70710678]],\n",
       " Quantum object: dims = [[2], [2]], shape = (2, 2), type = oper, isherm = False\n",
       " Qobj data =\n",
       " [[ 0.70710678 -0.70710678]\n",
       "  [ 0.70710678  0.70710678]],\n",
       " Quantum object: dims = [[2], [2]], shape = (2, 2), type = oper, isherm = False\n",
       " Qobj data =\n",
       " [[6.123234e-17+0.j 0.000000e+00-1.j]\n",
       "  [0.000000e+00-1.j 6.123234e-17+0.j]],\n",
       " Quantum object: dims = [[2], [2]], shape = (2, 2), type = oper, isherm = False\n",
       " Qobj data =\n",
       " [[ 6.123234e-17 -1.000000e+00]\n",
       "  [ 1.000000e+00  6.123234e-17]],\n",
       " Quantum object: dims = [[2], [2]], shape = (2, 2), type = oper, isherm = False\n",
       " Qobj data =\n",
       " [[ 0.70710678 -0.70710678]\n",
       "  [ 0.70710678  0.70710678]],\n",
       " Quantum object: dims = [[2], [2]], shape = (2, 2), type = oper, isherm = False\n",
       " Qobj data =\n",
       " [[0.70710678+0.j         0.        -0.70710678j]\n",
       "  [0.        -0.70710678j 0.70710678+0.j        ]],\n",
       " Quantum object: dims = [[2], [2]], shape = (2, 2), type = oper, isherm = False\n",
       " Qobj data =\n",
       " [[ 0.70710678 -0.70710678]\n",
       "  [ 0.70710678  0.70710678]],\n",
       " Quantum object: dims = [[2], [2]], shape = (2, 2), type = oper, isherm = False\n",
       " Qobj data =\n",
       " [[ 0.70710678 -0.70710678]\n",
       "  [ 0.70710678  0.70710678]],\n",
       " Quantum object: dims = [[2], [2]], shape = (2, 2), type = oper, isherm = False\n",
       " Qobj data =\n",
       " [[ 0.70710678 -0.70710678]\n",
       "  [ 0.70710678  0.70710678]],\n",
       " Quantum object: dims = [[2], [2]], shape = (2, 2), type = oper, isherm = False\n",
       " Qobj data =\n",
       " [[ 0.        +0.j         -0.70710678-0.70710678j]\n",
       "  [ 0.70710678-0.70710678j  0.        +0.j        ]]]"
      ]
     },
     "execution_count": 8,
     "metadata": {},
     "output_type": "execute_result"
    }
   ],
   "source": [
    "sequence"
   ]
  },
  {
   "cell_type": "code",
   "execution_count": null,
   "metadata": {},
   "outputs": [],
   "source": []
  }
 ],
 "metadata": {
  "kernelspec": {
   "display_name": "Python 3",
   "language": "python",
   "name": "python3"
  },
  "language_info": {
   "codemirror_mode": {
    "name": "ipython",
    "version": 3
   },
   "file_extension": ".py",
   "mimetype": "text/x-python",
   "name": "python",
   "nbconvert_exporter": "python",
   "pygments_lexer": "ipython3",
   "version": "3.8.3"
  }
 },
 "nbformat": 4,
 "nbformat_minor": 4
}
