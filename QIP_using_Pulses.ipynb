{
 "cells": [
  {
   "cell_type": "code",
   "execution_count": 46,
   "metadata": {},
   "outputs": [],
   "source": [
    "from qutip.qip.device import Processor\n",
    "from qutip import Qobj, identity, sigmax, sigmaz,sigmay\n",
    "import numpy as np\n",
    "import matplotlib.pyplot as plt\n",
    "from qutip.qip.device import OptPulseProcessor\n",
    "from qutip.operators import sigmaz, sigmax, sigmay\n",
    "from qutip.tensor import tensor# Same parameter for all the gates\n",
    "from qutip.qip.circuit import QubitCircuit"
   ]
  },
  {
   "cell_type": "code",
   "execution_count": 51,
   "metadata": {},
   "outputs": [],
   "source": [
    "proc = Processor(1)\n",
    "proc.add_control(sigmaz(), cyclic_permutation=True)  # sigmaz for all qubits\n",
    "proc.add_drift(sigmax(),targets=[0])\n",
    "\n",
    "proc.pulses[0].coeffs = np.array([1.0, 1.5, 2.0])\n",
    "proc.pulses[0].tlist = np.array([0.1, 0.2, 0.4, 0.5])"
   ]
  },
  {
   "cell_type": "code",
   "execution_count": 55,
   "metadata": {},
   "outputs": [],
   "source": [
    "qc = QubitCircuit(N=1)\n",
    "qc.add_1q_gate(\"RZ\")\n",
    "\n",
    "num_tslots = 10\n",
    "evo_time = 10\n",
    "\n",
    "processor = OptPulseProcessor(N=1, drift=sigmaz())\n",
    "processor.add_control(sigmax())"
   ]
  },
  {
   "cell_type": "code",
   "execution_count": 56,
   "metadata": {},
   "outputs": [
    {
     "ename": "AttributeError",
     "evalue": "'int' object has no attribute 'dims'",
     "output_type": "error",
     "traceback": [
      "\u001b[1;31m---------------------------------------------------------------------------\u001b[0m",
      "\u001b[1;31mAttributeError\u001b[0m                            Traceback (most recent call last)",
      "\u001b[1;32m<ipython-input-56-3b03b786b504>\u001b[0m in \u001b[0;36m<module>\u001b[1;34m\u001b[0m\n\u001b[0;32m      1\u001b[0m \u001b[1;31m# num_tslots and evo_time are two keyword arguments\u001b[0m\u001b[1;33m\u001b[0m\u001b[1;33m\u001b[0m\u001b[1;33m\u001b[0m\u001b[0m\n\u001b[1;32m----> 2\u001b[1;33m \u001b[0mtlist\u001b[0m\u001b[1;33m,\u001b[0m \u001b[0mcoeffs\u001b[0m \u001b[1;33m=\u001b[0m \u001b[0mprocessor\u001b[0m\u001b[1;33m.\u001b[0m\u001b[0mload_circuit\u001b[0m\u001b[1;33m(\u001b[0m\u001b[0mqc\u001b[0m\u001b[1;33m,\u001b[0m \u001b[0mnum_tslots\u001b[0m\u001b[1;33m=\u001b[0m\u001b[0mnum_tslots\u001b[0m\u001b[1;33m,\u001b[0m \u001b[0mevo_time\u001b[0m\u001b[1;33m=\u001b[0m\u001b[0mevo_time\u001b[0m\u001b[1;33m)\u001b[0m\u001b[1;33m\u001b[0m\u001b[1;33m\u001b[0m\u001b[0m\n\u001b[0m\u001b[0;32m      3\u001b[0m \u001b[1;31m# Different parameters for different gates\u001b[0m\u001b[1;33m\u001b[0m\u001b[1;33m\u001b[0m\u001b[1;33m\u001b[0m\u001b[0m\n",
      "\u001b[1;32m~\\anaconda3\\lib\\site-packages\\qutip\\qip\\device\\optpulseprocessor.py\u001b[0m in \u001b[0;36mload_circuit\u001b[1;34m(self, qc, min_fid_err, merge_gates, setting_args, verbose, **kwargs)\u001b[0m\n\u001b[0;32m    196\u001b[0m         \u001b[0mlast_time\u001b[0m \u001b[1;33m=\u001b[0m \u001b[1;36m0.\u001b[0m  \u001b[1;31m# used in concatenation of tlist\u001b[0m\u001b[1;33m\u001b[0m\u001b[1;33m\u001b[0m\u001b[0m\n\u001b[0;32m    197\u001b[0m         \u001b[1;32mfor\u001b[0m \u001b[0mprop_ind\u001b[0m\u001b[1;33m,\u001b[0m \u001b[0mU_targ\u001b[0m \u001b[1;32min\u001b[0m \u001b[0menumerate\u001b[0m\u001b[1;33m(\u001b[0m\u001b[0mprops\u001b[0m\u001b[1;33m)\u001b[0m\u001b[1;33m:\u001b[0m\u001b[1;33m\u001b[0m\u001b[1;33m\u001b[0m\u001b[0m\n\u001b[1;32m--> 198\u001b[1;33m             \u001b[0mU_0\u001b[0m \u001b[1;33m=\u001b[0m \u001b[0midentity\u001b[0m\u001b[1;33m(\u001b[0m\u001b[0mU_targ\u001b[0m\u001b[1;33m.\u001b[0m\u001b[0mdims\u001b[0m\u001b[1;33m[\u001b[0m\u001b[1;36m0\u001b[0m\u001b[1;33m]\u001b[0m\u001b[1;33m)\u001b[0m\u001b[1;33m\u001b[0m\u001b[1;33m\u001b[0m\u001b[0m\n\u001b[0m\u001b[0;32m    199\u001b[0m \u001b[1;33m\u001b[0m\u001b[0m\n\u001b[0;32m    200\u001b[0m             \u001b[1;31m# If qc is a QubitCircuit and setting_args is not empty,\u001b[0m\u001b[1;33m\u001b[0m\u001b[1;33m\u001b[0m\u001b[1;33m\u001b[0m\u001b[0m\n",
      "\u001b[1;31mAttributeError\u001b[0m: 'int' object has no attribute 'dims'"
     ]
    }
   ],
   "source": [
    "# num_tslots and evo_time are two keyword arguments\n",
    "tlist, coeffs = processor.load_circuit(qc, num_tslots=num_tslots, evo_time=evo_time) \n",
    "# Different parameters for different gates"
   ]
  },
  {
   "cell_type": "code",
   "execution_count": null,
   "metadata": {},
   "outputs": [],
   "source": []
  }
 ],
 "metadata": {
  "kernelspec": {
   "display_name": "Python 3",
   "language": "python",
   "name": "python3"
  },
  "language_info": {
   "codemirror_mode": {
    "name": "ipython",
    "version": 3
   },
   "file_extension": ".py",
   "mimetype": "text/x-python",
   "name": "python",
   "nbconvert_exporter": "python",
   "pygments_lexer": "ipython3",
   "version": "3.8.3"
  }
 },
 "nbformat": 4,
 "nbformat_minor": 4
}
