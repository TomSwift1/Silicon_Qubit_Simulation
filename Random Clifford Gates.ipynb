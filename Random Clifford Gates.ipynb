{
 "cells": [
  {
   "cell_type": "code",
   "execution_count": 6,
   "metadata": {},
   "outputs": [],
   "source": [
    "from qutip.operators import qeye\n",
    "from qutip.qip.gates import rx,ry\n",
    "from numpy import pi\n",
    "import random\n",
    "from random_single_clifford import random_single_clifford"
   ]
  },
  {
   "cell_type": "markdown",
   "metadata": {},
   "source": [
    "# Single Qubit Clifford Gates"
   ]
  },
  {
   "cell_type": "markdown",
   "metadata": {},
   "source": [
    "Set of gates is {I,$X_{\\frac{\\pi}{2}}$,$Y_{\\frac{\\pi}{2}}$,$X_{\\pi}$,$X_{\\pi}$}"
   ]
  },
  {
   "cell_type": "code",
   "execution_count": 7,
   "metadata": {},
   "outputs": [],
   "source": [
    "cliff_gates = [qeye(2),rx(pi/2),ry(pi/2),rx(pi),ry(pi)]"
   ]
  },
  {
   "cell_type": "code",
   "execution_count": 8,
   "metadata": {},
   "outputs": [
    {
     "name": "stdout",
     "output_type": "stream",
     "text": [
      "Quantum object: dims = [[2], [2]], shape = (2, 2), type = oper, isherm = False\n",
      "Qobj data =\n",
      "[[0.70710678+0.j         0.        -0.70710678j]\n",
      " [0.        -0.70710678j 0.70710678+0.j        ]]\n",
      "Quantum object: dims = [[2], [2]], shape = (2, 2), type = oper, isherm = False\n",
      "Qobj data =\n",
      "[[6.123234e-17+0.j 0.000000e+00-1.j]\n",
      " [0.000000e+00-1.j 6.123234e-17+0.j]]\n"
     ]
    }
   ],
   "source": [
    "for i in range(2):\n",
    "    print(random.choice(cliff_gates))"
   ]
  },
  {
   "cell_type": "markdown",
   "metadata": {},
   "source": [
    "Now within a function"
   ]
  },
  {
   "cell_type": "code",
   "execution_count": 9,
   "metadata": {},
   "outputs": [
    {
     "name": "stdout",
     "output_type": "stream",
     "text": [
      "Quantum object: dims = [[2], [2]], shape = (2, 2), type = oper, isherm = False\n",
      "Qobj data =\n",
      "[[6.123234e-17+0.j 0.000000e+00-1.j]\n",
      " [0.000000e+00-1.j 6.123234e-17+0.j]]\n",
      "Quantum object: dims = [[2], [2]], shape = (2, 2), type = oper, isherm = False\n",
      "Qobj data =\n",
      "[[ 0.70710678 -0.70710678]\n",
      " [ 0.70710678  0.70710678]]\n"
     ]
    }
   ],
   "source": [
    "for i in range(2):\n",
    "    print(random_single_clifford())"
   ]
  }
 ],
 "metadata": {
  "kernelspec": {
   "display_name": "Python 3",
   "language": "python",
   "name": "python3"
  },
  "language_info": {
   "codemirror_mode": {
    "name": "ipython",
    "version": 3
   },
   "file_extension": ".py",
   "mimetype": "text/x-python",
   "name": "python",
   "nbconvert_exporter": "python",
   "pygments_lexer": "ipython3",
   "version": "3.8.3"
  }
 },
 "nbformat": 4,
 "nbformat_minor": 4
}
