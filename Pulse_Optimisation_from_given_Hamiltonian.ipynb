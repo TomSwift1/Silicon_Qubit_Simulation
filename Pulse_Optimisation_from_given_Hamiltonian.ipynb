{
 "cells": [
  {
   "cell_type": "markdown",
   "metadata": {},
   "source": [
    "# Calculation of control fields for Hadamard gate on single qubit using L-BFGS-B algorithm"
   ]
  },
  {
   "cell_type": "markdown",
   "metadata": {},
   "source": [
    "Alexander Pitchford (agp1@aber.ac.uk)"
   ]
  },
  {
   "cell_type": "markdown",
   "metadata": {},
   "source": [
    "Example to demonstrate using the control library to determine control\n",
    "pulses using the ctrlpulseoptim.optimize_pulse_unitary function.\n",
    "The (default) L-BFGS-B algorithm is used to optimise the pulse to\n",
    "minimise the fidelity error, which is equivalent maximising the fidelity\n",
    "to an optimal value of 1.\n",
    "\n",
    "The system in this example is a single qubit in a constant field in z\n",
    "with a variable control field in x\n",
    "The target evolution is the Hadamard gate irrespective of global phase\n",
    "\n",
    "The user can experiment with the timeslicing, by means of changing the\n",
    "number of timeslots and/or total time for the evolution.\n",
    "Different initial (starting) pulse types can be tried.\n",
    "The initial and final pulses are displayed in a plot\n",
    "\n",
    "An in depth discussion of using methods of this type can be found in [1]"
   ]
  },
  {
   "cell_type": "code",
   "execution_count": 15,
   "metadata": {},
   "outputs": [],
   "source": [
    "%matplotlib inline\n",
    "import numpy as np\n",
    "import matplotlib.pyplot as plt\n",
    "import datetime"
   ]
  },
  {
   "cell_type": "code",
   "execution_count": 16,
   "metadata": {},
   "outputs": [],
   "source": [
    "from qutip import Qobj, identity, sigmax, sigmaz,sigmay\n",
    "from qutip.qip import hadamard_transform\n",
    "import qutip.logging_utils as logging\n",
    "logger = logging.get_logger()\n",
    "#Set this to None or logging.WARN for 'quiet' execution\n",
    "log_level = logging.INFO\n",
    "#QuTiP control modules\n",
    "import qutip.control.pulseoptim as cpo\n",
    "\n",
    "example_name = 'Hadamard'\n"
   ]
  },
  {
   "cell_type": "markdown",
   "metadata": {},
   "source": [
    "### Defining the physics"
   ]
  },
  {
   "cell_type": "markdown",
   "metadata": {},
   "source": [
    "The dynamics of the system are governed by the combined Hamiltonian:\n",
    "H(t) = H_d + sum(u1(t)*Hc1 + u2(t)*Hc2 + ....)\n",
    "That is the time-dependent Hamiltonian has a constant part (called here the drift) and time vary parts, which are the control Hamiltonians scaled by some functions u_j(t) known as control amplitudes\n",
    "In this case the drift is simply a rotation about z and the (time-varying) control is a rotation about x\n",
    "In theory this system is fully controllable (irrespective of global phase) and so any unitary target could be chosen; we have chosen the Hadamard gate."
   ]
  },
  {
   "cell_type": "code",
   "execution_count": 17,
   "metadata": {},
   "outputs": [],
   "source": [
    "# Drift Hamiltonian\n",
    "H_d = sigmaz()\n",
    "# The (single) control Hamiltonian\n",
    "H_c = [sigmax()]\n",
    "# start point for the gate evolution\n",
    "U_0 = identity(2)\n",
    "# Target for the gate evolution Hadamard gate\n",
    "U_targ = sigmay()"
   ]
  },
  {
   "cell_type": "markdown",
   "metadata": {},
   "source": [
    "### Defining the time evolution parameters"
   ]
  },
  {
   "cell_type": "markdown",
   "metadata": {},
   "source": [
    "To solve the evolution the control amplitudes are considered constant within piecewise timeslots, hence the evolution during the timeslot can be calculated using U(t_k) = expm(-i*H(t_k)*dt). Combining these for all the timeslots gives the approximation to the evolution from the identity at t=0 to U(T) at the t=evo_time\n",
    "The number of timeslots and evo_time have to be chosen such that the timeslot durations (dt) are small compared with the dynamics of the system."
   ]
  },
  {
   "cell_type": "code",
   "execution_count": 18,
   "metadata": {},
   "outputs": [],
   "source": [
    "# Number of time slots\n",
    "n_ts = 10\n",
    "# Time allowed for the evolution\n",
    "evo_time = 10"
   ]
  },
  {
   "cell_type": "markdown",
   "metadata": {},
   "source": [
    "### Set the conditions which will cause the pulse optimisation to terminate"
   ]
  },
  {
   "cell_type": "markdown",
   "metadata": {},
   "source": [
    "At each iteration the fidelity of the evolution is tested by comparaing the calculated evolution U(T) with the target U_targ. For unitary systems such as this one this is typically:\n",
    "f = normalise(overlap(U(T), U_targ))\n",
    "For details of the normalisation see [1] or the source code.\n",
    "The maximum fidelity (for a unitary system) calculated this way would be 1, and hence the error is calculated as fid_err = 1 - fidelity. As such the optimisation is considered completed when the fid_err falls below such a target value.\n",
    "\n",
    "In some cases the optimisation either gets stuck in some local minima, or the fid_err_targ is just not achievable, therefore some limits are set to the time/effort allowed to find a solution.\n",
    "\n",
    "The algorithm uses gradients to direct its search for the minimum fidelity error. If the sum of all the gradients falls below the min_grad, then it is assumed some local minima has been found."
   ]
  },
  {
   "cell_type": "code",
   "execution_count": 19,
   "metadata": {},
   "outputs": [],
   "source": [
    "# Fidelity error target\n",
    "fid_err_targ = 1e-10\n",
    "# Maximum iterations for the optisation algorithm\n",
    "max_iter = 200\n",
    "# Maximum (elapsed) time allowed in seconds\n",
    "max_wall_time = 120\n",
    "# Minimum gradient (sum of gradients squared)\n",
    "# as this tends to 0 -> local minima has been found\n",
    "min_grad = 1e-20"
   ]
  },
  {
   "cell_type": "markdown",
   "metadata": {},
   "source": [
    "### Set the initial pulse type"
   ]
  },
  {
   "cell_type": "markdown",
   "metadata": {},
   "source": [
    "The control amplitudes must be set to some initial values. Typically these are just random values for each control in each timeslot. These do however result in erratic optimised pulses. For this example, a solution will be found for any initial pulse, and so it can be interesting to look at the other initial pulse alternatives."
   ]
  },
  {
   "cell_type": "code",
   "execution_count": 20,
   "metadata": {},
   "outputs": [],
   "source": [
    "# pulse type alternatives: RND|ZERO|LIN|SINE|SQUARE|SAW|TRIANGLE|\n",
    "p_type = 'RND'"
   ]
  },
  {
   "cell_type": "markdown",
   "metadata": {},
   "source": [
    "### Give an extension for output files"
   ]
  },
  {
   "cell_type": "code",
   "execution_count": 21,
   "metadata": {},
   "outputs": [],
   "source": [
    "#Set to None to suppress output files\n",
    "f_ext = \"{}_n_ts{}_ptype{}.txt\".format(example_name, n_ts, p_type)"
   ]
  },
  {
   "cell_type": "markdown",
   "metadata": {},
   "source": [
    "### Run the optimisation"
   ]
  },
  {
   "cell_type": "markdown",
   "metadata": {},
   "source": [
    "In this step the L-BFGS-B algorithm is invoked. At each iteration the gradient of the fidelity error w.r.t. each control amplitude in each timeslot is calculated using an exact gradient method (see [1]). Using the gradients the algorithm will determine a set of piecewise control amplitudes that reduce the fidelity error. With repeated iterations an approximation of the Hessian matrix (the 2nd order differentials) is calculated, which enables a quasi 2nd order Newton method for finding a minima.  The algorithm continues until one of the termination conditions defined above has been reached."
   ]
  },
  {
   "cell_type": "code",
   "execution_count": 22,
   "metadata": {},
   "outputs": [
    {
     "name": "stderr",
     "output_type": "stream",
     "text": [
      "INFO:qutip.control.dynamics:Setting memory optimisations for level 0\n",
      "INFO:qutip.control.dynamics:Internal operator data type choosen to be <class 'numpy.ndarray'>\n",
      "INFO:qutip.control.dynamics:phased dynamics generator caching True\n",
      "INFO:qutip.control.dynamics:propagator gradient caching True\n",
      "INFO:qutip.control.dynamics:eigenvector adjoint caching True\n",
      "INFO:qutip.control.dynamics:use sparse eigen decomp False\n",
      "INFO:qutip.control.pulseoptim:System configuration:\n",
      "Drift Hamiltonian:\n",
      "Quantum object: dims = [[2], [2]], shape = (2, 2), type = oper, isherm = True\n",
      "Qobj data =\n",
      "[[ 1.  0.]\n",
      " [ 0. -1.]]\n",
      "Control 1 Hamiltonian:\n",
      "Quantum object: dims = [[2], [2]], shape = (2, 2), type = oper, isherm = True\n",
      "Qobj data =\n",
      "[[0. 1.]\n",
      " [1. 0.]]\n",
      "Initial state / operator:\n",
      "Quantum object: dims = [[2], [2]], shape = (2, 2), type = oper, isherm = True\n",
      "Qobj data =\n",
      "[[1. 0.]\n",
      " [0. 1.]]\n",
      "Target state / operator:\n",
      "Quantum object: dims = [[2], [2]], shape = (2, 2), type = oper, isherm = True\n",
      "Qobj data =\n",
      "[[0.+0.j 0.-1.j]\n",
      " [0.+1.j 0.+0.j]]\n",
      "INFO:qutip.control.pulseoptim:Initial amplitudes output to file: ctrl_amps_initial_Hadamard_n_ts10_ptypeRND.txt\n",
      "INFO:qutip.control.optimizer:Optimising pulse(s) using GRAPE with 'fmin_l_bfgs_b' method\n",
      "INFO:qutip.control.pulseoptim:Final amplitudes output to file: ctrl_amps_final_Hadamard_n_ts10_ptypeRND.txt\n"
     ]
    }
   ],
   "source": [
    "result = cpo.optimize_pulse_unitary(H_d, H_c, U_0, U_targ, n_ts, evo_time, \n",
    "                fid_err_targ=fid_err_targ, min_grad=min_grad, \n",
    "                max_iter=max_iter, max_wall_time=max_wall_time, \n",
    "                out_file_ext=f_ext, init_pulse_type=p_type, \n",
    "                log_level=log_level, gen_stats=True)"
   ]
  },
  {
   "cell_type": "markdown",
   "metadata": {},
   "source": [
    "### Report the results"
   ]
  },
  {
   "cell_type": "markdown",
   "metadata": {},
   "source": [
    "Firstly the performace statistics are reported, which gives a breadown of the processing times. The times given are those that are associated with calculating the fidelity and the gradients. Any remaining processing time can be assumed to be used by the optimisation algorithm (L-BFGS-B) itself. In this example it can be seen that the majority of time is spent calculating the propagators, i.e. exponentiating the combined Hamiltonian.\n",
    "\n",
    "The optimised U(T) is reported as the 'final evolution', which is essentially the string representation of the Qobj that holds the full time evolution at the point when the optimisation is terminated.\n",
    "\n",
    "The key information is in the summary (given) last. Here the final fidelity is reported and the reasonn for termination of the algorithm."
   ]
  },
  {
   "cell_type": "code",
   "execution_count": 23,
   "metadata": {},
   "outputs": [
    {
     "name": "stdout",
     "output_type": "stream",
     "text": [
      "\n",
      "------------------------------------\n",
      "---- Control optimisation stats ----\n",
      "**** Timings (HH:MM:SS.US) ****\n",
      "Total wall time elapsed during optimisation: 0:00:00.017373\n",
      "Wall time computing Hamiltonians: 0:00:00.000605 (3.48%)\n",
      "Wall time computing propagators: 0:00:00.009745 (56.09%)\n",
      "Wall time computing forward propagation: 0:00:00.000152 (0.87%)\n",
      "Wall time computing onward propagation: 0:00:00.000153 (0.88%)\n",
      "Wall time computing gradient: 0:00:00.001260 (7.25%)\n",
      "\n",
      "**** Iterations and function calls ****\n",
      "Number of iterations: 6\n",
      "Number of fidelity function calls: 8\n",
      "Number of times fidelity is computed: 8\n",
      "Number of gradient function calls: 7\n",
      "Number of times gradients are computed: 7\n",
      "Number of times timeslot evolution is recomputed: 8\n",
      "\n",
      "**** Control amplitudes ****\n",
      "Number of control amplitude updates: 7\n",
      "Mean number of updates per iteration: 1.1666666666666667\n",
      "Number of timeslot values changed: 70\n",
      "Mean number of timeslot changes per update: 10.0\n",
      "Number of amplitude values changed: 70\n",
      "Mean number of amplitude changes per update: 10.0\n",
      "------------------------------------\n",
      "Final evolution\n",
      "Quantum object: dims = [[2], [2]], shape = (2, 2), type = oper, isherm = False\n",
      "Qobj data =\n",
      "[[ 1.08357361e-07-6.86613801e-07j  1.00000000e+00+5.70763761e-07j]\n",
      " [-1.00000000e+00+5.70763761e-07j  1.08357361e-07+6.86613801e-07j]]\n",
      "\n",
      "********* Summary *****************\n",
      "Final fidelity error 4.0456527017340704e-13\n",
      "Final gradient normal 0.00019565457632726967\n",
      "Terminated due to Goal achieved\n",
      "Number of iterations 6\n",
      "Completed in 0:00:00.017373 HH:MM:SS.US\n"
     ]
    }
   ],
   "source": [
    "result.stats.report()\n",
    "print(\"Final evolution\\n{}\\n\".format(result.evo_full_final))\n",
    "print(\"********* Summary *****************\")\n",
    "print(\"Final fidelity error {}\".format(result.fid_err))\n",
    "print(\"Final gradient normal {}\".format(result.grad_norm_final))\n",
    "print(\"Terminated due to {}\".format(result.termination_reason))\n",
    "print(\"Number of iterations {}\".format(result.num_iter))\n",
    "print(\"Completed in {} HH:MM:SS.US\".format(\n",
    "        datetime.timedelta(seconds=result.wall_time)))"
   ]
  },
  {
   "cell_type": "markdown",
   "metadata": {},
   "source": [
    "### Plot the initial and final amplitudes"
   ]
  },
  {
   "cell_type": "markdown",
   "metadata": {},
   "source": [
    "Here the (random) starting pulse is plotted along with the pulse (control amplitudes) that was found to produce the target gate evolution to within the specified error."
   ]
  },
  {
   "cell_type": "code",
   "execution_count": 24,
   "metadata": {},
   "outputs": [
    {
     "data": {
      "image/png": "[encoded data removed]",
      "text/plain": [
       "<Figure size 432x288 with 2 Axes>"
      ]
     },
     "metadata": {
      "needs_background": "light"
     },
     "output_type": "display_data"
    }
   ],
   "source": [
    "fig1 = plt.figure()\n",
    "ax1 = fig1.add_subplot(2, 1, 1)\n",
    "ax1.set_title(\"Initial control amps\")\n",
    "#ax1.set_xlabel(\"Time\")\n",
    "ax1.set_ylabel(\"Control amplitude\")\n",
    "ax1.step(result.time,\n",
    "         np.hstack((result.initial_amps[:, 0], result.initial_amps[-1, 0])),\n",
    "         where='post')\n",
    "\n",
    "ax2 = fig1.add_subplot(2, 1, 2)\n",
    "ax2.set_title(\"Optimised Control Sequences\")\n",
    "ax2.set_xlabel(\"Time\")\n",
    "ax2.set_ylabel(\"Control amplitude\")\n",
    "ax2.step(result.time,\n",
    "         np.hstack((result.final_amps[:, 0], result.final_amps[-1, 0])),\n",
    "         where='post')\n",
    "plt.tight_layout()\n",
    "plt.show()"
   ]
  },
  {
   "cell_type": "markdown",
   "metadata": {},
   "source": [
    "### Versions"
   ]
  },
  {
   "cell_type": "code",
   "execution_count": 25,
   "metadata": {},
   "outputs": [
    {
     "data": {
      "text/html": [
       "<table><tr><th>Software</th><th>Version</th></tr><tr><td>QuTiP</td><td>4.5.2</td></tr><tr><td>Numpy</td><td>1.18.5</td></tr><tr><td>SciPy</td><td>1.5.0</td></tr><tr><td>matplotlib</td><td>3.2.2</td></tr><tr><td>Cython</td><td>0.29.21</td></tr><tr><td>Number of CPUs</td><td>4</td></tr><tr><td>BLAS Info</td><td>INTEL MKL</td></tr><tr><td>IPython</td><td>7.16.1</td></tr><tr><td>Python</td><td>3.8.3 (default, Jul  2 2020, 17:30:36) [MSC v.1916 64 bit (AMD64)]</td></tr><tr><td>OS</td><td>nt [win32]</td></tr><tr><td colspan='2'>Wed Jan 27 16:51:49 2021 GMT Standard Time</td></tr></table>"
      ],
      "text/plain": [
       "<IPython.core.display.HTML object>"
      ]
     },
     "execution_count": 25,
     "metadata": {},
     "output_type": "execute_result"
    }
   ],
   "source": [
    "from qutip.ipynbtools import version_table\n",
    "\n",
    "version_table()"
   ]
  },
  {
   "cell_type": "markdown",
   "metadata": {},
   "source": [
    "### References"
   ]
  },
  {
   "cell_type": "markdown",
   "metadata": {},
   "source": [
    "[1] Machnes et.al., DYNAMO - Dynamic Framework for Quantum Optimal Control. arXiv.1011.4874"
   ]
  },
  {
   "cell_type": "code",
   "execution_count": null,
   "metadata": {},
   "outputs": [],
   "source": []
  },
  {
   "cell_type": "code",
   "execution_count": null,
   "metadata": {},
   "outputs": [],
   "source": []
  }
 ],
 "metadata": {
  "kernelspec": {
   "display_name": "Python 3",
   "language": "python",
   "name": "python3"
  },
  "language_info": {
   "codemirror_mode": {
    "name": "ipython",
    "version": 3
   },
   "file_extension": ".py",
   "mimetype": "text/x-python",
   "name": "python",
   "nbconvert_exporter": "python",
   "pygments_lexer": "ipython3",
   "version": "3.8.3"
  }
 },
 "nbformat": 4,
 "nbformat_minor": 1
}
