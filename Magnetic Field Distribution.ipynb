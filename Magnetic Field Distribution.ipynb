{
 "cells": [
  {
   "cell_type": "markdown",
   "metadata": {},
   "source": [
    "# Fidelity from Magnetic Field Distribution"
   ]
  },
  {
   "cell_type": "code",
   "execution_count": 85,
   "metadata": {},
   "outputs": [],
   "source": [
    "import numpy as np\n",
    "from My_Function import hadamard_evolution, z_evolution, create_grid,x_evolution, opt_x_evolution\n",
    "from pylab import meshgrid,cm,imshow,contour,clabel,colorbar,axis,title,show\n",
    "from matplotlib import pyplot as plt"
   ]
  },
  {
   "cell_type": "markdown",
   "metadata": {},
   "source": [
    "Define input parameters:\n",
    "- tot_field_variation = Gradient of field at the centre in T/mm\n",
    "- sep = Separation between qubits on the chip in the x and y directions\n",
    "\n",
    "create_grid returns 5x5 array containing distance between central qubit and outer qubits"
   ]
  },
  {
   "cell_type": "code",
   "execution_count": 86,
   "metadata": {},
   "outputs": [],
   "source": [
    "setup = 'Our_setup'\n",
    "sep = 0.05\n",
    "tot_field_variation = 3*(10**(-6))\n",
    "grid = create_grid(sep)"
   ]
  },
  {
   "cell_type": "markdown",
   "metadata": {},
   "source": [
    "Multiply grid by field gradient to find what the 'extra' field at each point is"
   ]
  },
  {
   "cell_type": "code",
   "execution_count": 87,
   "metadata": {},
   "outputs": [],
   "source": [
    "b_field = grid * tot_field_variation"
   ]
  },
  {
   "cell_type": "markdown",
   "metadata": {},
   "source": [
    "$\\Delta = g\\mu_{B}\\delta B$ is the coefficient that will go in front of $\\sigma_{x}$ so we multiply our matrix by $ g\\mu_{B}$"
   ]
  },
  {
   "cell_type": "code",
   "execution_count": 88,
   "metadata": {},
   "outputs": [],
   "source": [
    "delta_H = b_field * 1.7588199959*(10**11)\n",
    "delta_Z = b_field * 1.7588199959*(10**11)\n",
    "delta_X = b_field * 1.7588199959*(10**11)\n",
    "delta_opt_X = b_field * 1.7588199959*(10**11)"
   ]
  },
  {
   "cell_type": "markdown",
   "metadata": {},
   "source": [
    "## Hadamard Evolution"
   ]
  },
  {
   "cell_type": "markdown",
   "metadata": {},
   "source": [
    "Loop over the deltas in the matrix to give an output fidelity for each qubit position"
   ]
  },
  {
   "cell_type": "code",
   "execution_count": 89,
   "metadata": {},
   "outputs": [],
   "source": [
    "with np.nditer(delta_H, op_flags=['readwrite']) as it:\n",
    "    for x in it:\n",
    "           x[...] = hadamard_evolution(x)"
   ]
  },
  {
   "cell_type": "code",
   "execution_count": 90,
   "metadata": {},
   "outputs": [
    {
     "data": {
      "text/plain": [
       "array([[0.99999992, 0.99999997, 0.99999998, 0.99999997, 0.99999992],\n",
       "       [0.99999997, 1.        , 1.        , 1.        , 0.99999997],\n",
       "       [0.99999998, 1.        , 1.        , 1.        , 0.99999998],\n",
       "       [0.99999997, 1.        , 1.        , 1.        , 0.99999997],\n",
       "       [0.99999992, 0.99999997, 0.99999998, 0.99999997, 0.99999992]])"
      ]
     },
     "execution_count": 90,
     "metadata": {},
     "output_type": "execute_result"
    }
   ],
   "source": [
    "delta_H"
   ]
  },
  {
   "cell_type": "markdown",
   "metadata": {},
   "source": [
    "## Z-Evolution"
   ]
  },
  {
   "cell_type": "code",
   "execution_count": 91,
   "metadata": {},
   "outputs": [],
   "source": [
    "with np.nditer(delta_Z, op_flags=['readwrite']) as it:\n",
    "    for x in it:\n",
    "           x[...] = z_evolution(x)"
   ]
  },
  {
   "cell_type": "code",
   "execution_count": 92,
   "metadata": {},
   "outputs": [
    {
     "data": {
      "text/plain": [
       "array([[0.99999994, 0.99999998, 0.99999998, 0.99999998, 0.99999994],\n",
       "       [0.99999998, 1.        , 1.        , 1.        , 0.99999998],\n",
       "       [0.99999998, 1.        , 1.        , 1.        , 0.99999998],\n",
       "       [0.99999998, 1.        , 1.        , 1.        , 0.99999998],\n",
       "       [0.99999994, 0.99999998, 0.99999998, 0.99999998, 0.99999994]])"
      ]
     },
     "execution_count": 92,
     "metadata": {},
     "output_type": "execute_result"
    }
   ],
   "source": [
    "delta_Z"
   ]
  },
  {
   "cell_type": "markdown",
   "metadata": {},
   "source": [
    "## X-Evolution"
   ]
  },
  {
   "cell_type": "code",
   "execution_count": 93,
   "metadata": {},
   "outputs": [],
   "source": [
    "with np.nditer(delta_X, op_flags=['readwrite']) as it:\n",
    "    for x in it:\n",
    "           x[...] = x_evolution(x)"
   ]
  },
  {
   "cell_type": "code",
   "execution_count": 94,
   "metadata": {},
   "outputs": [
    {
     "data": {
      "text/plain": [
       "array([[0.99999994, 0.99999998, 0.99999998, 0.99999998, 0.99999994],\n",
       "       [0.99999998, 1.        , 1.        , 1.        , 0.99999998],\n",
       "       [0.99999998, 1.        , 1.        , 1.        , 0.99999998],\n",
       "       [0.99999998, 1.        , 1.        , 1.        , 0.99999998],\n",
       "       [0.99999994, 0.99999998, 0.99999998, 0.99999998, 0.99999994]])"
      ]
     },
     "execution_count": 94,
     "metadata": {},
     "output_type": "execute_result"
    }
   ],
   "source": [
    "delta_X"
   ]
  },
  {
   "cell_type": "markdown",
   "metadata": {},
   "source": [
    "## Optimised X-Evolution"
   ]
  },
  {
   "cell_type": "code",
   "execution_count": 95,
   "metadata": {},
   "outputs": [],
   "source": [
    "with np.nditer(delta_opt_X, op_flags=['readwrite']) as it:\n",
    "    for x in it:\n",
    "           x[...] = opt_x_evolution(x)"
   ]
  },
  {
   "cell_type": "code",
   "execution_count": 96,
   "metadata": {},
   "outputs": [
    {
     "data": {
      "text/plain": [
       "array([[1., 1., 1., 1., 1.],\n",
       "       [1., 1., 1., 1., 1.],\n",
       "       [1., 1., 1., 1., 1.],\n",
       "       [1., 1., 1., 1., 1.],\n",
       "       [1., 1., 1., 1., 1.]])"
      ]
     },
     "execution_count": 96,
     "metadata": {},
     "output_type": "execute_result"
    }
   ],
   "source": [
    "delta_opt_X"
   ]
  },
  {
   "cell_type": "markdown",
   "metadata": {},
   "source": [
    "## Plotting Results"
   ]
  },
  {
   "cell_type": "code",
   "execution_count": 97,
   "metadata": {},
   "outputs": [
    {
     "data": {
      "image/png": "[encoded data removed]",
      "text/plain": [
       "<Figure size 432x288 with 2 Axes>"
      ]
     },
     "metadata": {
      "needs_background": "light"
     },
     "output_type": "display_data"
    }
   ],
   "source": [
    "im = imshow((1-delta_Z)*100,cmap=cm.RdBu,extent=(-2.5*sep, 2.5*sep, 2.5*sep, -2.5*sep))\n",
    "colorbar(im)\n",
    "plt.xlabel('x/mm')\n",
    "plt.ylabel('y/mm')\n",
    "plt.title('Z-Gate %Error Fidelity')\n",
    "plt.savefig('Plots/Z-Gate_'+setup)"
   ]
  },
  {
   "cell_type": "code",
   "execution_count": 98,
   "metadata": {},
   "outputs": [
    {
     "data": {
      "image/png": "[encoded data removed]",
      "text/plain": [
       "<Figure size 432x288 with 2 Axes>"
      ]
     },
     "metadata": {
      "needs_background": "light"
     },
     "output_type": "display_data"
    }
   ],
   "source": [
    "im = imshow((1-delta_H)*100,cmap=cm.RdBu,extent=(-2.5*sep, 2.5*sep, 2.5*sep, -2.5*sep))\n",
    "colorbar(im)\n",
    "plt.xlabel('x/mm')\n",
    "plt.ylabel('y/mm')\n",
    "plt.title('Hadamard Gate %Error Fidelity')\n",
    "plt.savefig('Plots/H_Gate_'+setup)"
   ]
  },
  {
   "cell_type": "code",
   "execution_count": 99,
   "metadata": {},
   "outputs": [
    {
     "data": {
      "image/png": "[encoded data removed]",
      "text/plain": [
       "<Figure size 432x288 with 2 Axes>"
      ]
     },
     "metadata": {
      "needs_background": "light"
     },
     "output_type": "display_data"
    }
   ],
   "source": [
    "im = imshow((1-delta_X)*100,cmap=cm.RdBu,extent=(-2.5*sep, 2.5*sep, 2.5*sep, -2.5*sep))\n",
    "colorbar(im)\n",
    "plt.xlabel('x/mm')\n",
    "plt.ylabel('y/mm')\n",
    "plt.title('X Gate %Error Fidelity')\n",
    "plt.savefig('Plots/X-Gate_'+setup)"
   ]
  },
  {
   "cell_type": "code",
   "execution_count": 100,
   "metadata": {},
   "outputs": [
    {
     "data": {
      "image/png": "[encoded data removed]",
      "text/plain": [
       "<Figure size 432x288 with 2 Axes>"
      ]
     },
     "metadata": {
      "needs_background": "light"
     },
     "output_type": "display_data"
    }
   ],
   "source": [
    "im = imshow((1-delta_opt_X)*100,cmap=cm.RdBu,extent=(-2.5*sep, 2.5*sep, 2.5*sep, -2.5*sep))\n",
    "colorbar(im)\n",
    "plt.xlabel('x/mm')\n",
    "plt.ylabel('y/mm')\n",
    "plt.title('Optimised X Gate %Error Fidelity')\n",
    "plt.savefig('Plots/Opt_X-Gate_'+setup)"
   ]
  },
  {
   "cell_type": "code",
   "execution_count": null,
   "metadata": {},
   "outputs": [],
   "source": []
  }
 ],
 "metadata": {
  "kernelspec": {
   "display_name": "Python 3",
   "language": "python",
   "name": "python3"
  },
  "language_info": {
   "codemirror_mode": {
    "name": "ipython",
    "version": 3
   },
   "file_extension": ".py",
   "mimetype": "text/x-python",
   "name": "python",
   "nbconvert_exporter": "python",
   "pygments_lexer": "ipython3",
   "version": "3.8.3"
  }
 },
 "nbformat": 4,
 "nbformat_minor": 4
}
