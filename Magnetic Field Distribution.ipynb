{
 "cells": [
  {
   "cell_type": "markdown",
   "metadata": {},
   "source": [
    "# Fidelity from Magnetic Field Distribution"
   ]
  },
  {
   "cell_type": "code",
   "execution_count": 51,
   "metadata": {},
   "outputs": [],
   "source": [
    "import numpy as np\n",
    "from My_Function import hadamard_evolution, z_evolution, create_grid\n",
    "from pylab import meshgrid,cm,imshow,contour,clabel,colorbar,axis,title,show\n",
    "from matplotlib import pyplot as plt"
   ]
  },
  {
   "cell_type": "markdown",
   "metadata": {},
   "source": [
    "Define input parameters:\n",
    "- tot_field_variation = Gradient of field at the centre in T/mm\n",
    "- sep = Separation between qubits on the chip in the x and y directions\n",
    "\n",
    "create_grid returns 5x5 array containing distance between central qubit and outer qubits"
   ]
  },
  {
   "cell_type": "code",
   "execution_count": 63,
   "metadata": {},
   "outputs": [],
   "source": [
    "sep = 0.2\n",
    "tot_field_variation = 5*(10**(-6))\n",
    "grid = create_grid(sep)"
   ]
  },
  {
   "cell_type": "markdown",
   "metadata": {},
   "source": [
    "Multiply grid by field gradient to find what the 'extra' field at each point is"
   ]
  },
  {
   "cell_type": "code",
   "execution_count": 53,
   "metadata": {},
   "outputs": [],
   "source": [
    "b_field = grid * tot_field_variation"
   ]
  },
  {
   "cell_type": "markdown",
   "metadata": {},
   "source": [
    "$\\Delta = g\\mu_{B}\\delta B$ is the coefficient that will go in front of $\\sigma_{x}$ so we multiply our matrix by $ g\\mu_{B}$"
   ]
  },
  {
   "cell_type": "code",
   "execution_count": 54,
   "metadata": {},
   "outputs": [],
   "source": [
    "delta_H = b_field * 1.7588199959*(10**11)\n",
    "delta_Z = b_field * 1.7588199959*(10**11)"
   ]
  },
  {
   "cell_type": "markdown",
   "metadata": {},
   "source": [
    "## Hadamard Evolution"
   ]
  },
  {
   "cell_type": "markdown",
   "metadata": {},
   "source": [
    "Loop over the deltas in the matrix to give an output fidelity for each qubit position"
   ]
  },
  {
   "cell_type": "code",
   "execution_count": 55,
   "metadata": {},
   "outputs": [],
   "source": [
    "with np.nditer(delta_H, op_flags=['readwrite']) as it:\n",
    "    for x in it:\n",
    "           x[...] = hadamard_evolution(x)"
   ]
  },
  {
   "cell_type": "code",
   "execution_count": 56,
   "metadata": {},
   "outputs": [
    {
     "data": {
      "text/plain": [
       "array([[4.67766922e-03, 1.82818590e-03, 1.17019978e-03, 1.82818590e-03,\n",
       "        4.67766922e-03],\n",
       "       [1.82818590e-03, 2.92570249e-04, 7.31091350e-05, 2.92570249e-04,\n",
       "        1.82818590e-03],\n",
       "       [1.17019978e-03, 7.31091350e-05, 3.85025345e-11, 7.31091350e-05,\n",
       "        1.17019978e-03],\n",
       "       [1.82818590e-03, 2.92570249e-04, 7.31091350e-05, 2.92570249e-04,\n",
       "        1.82818590e-03],\n",
       "       [4.67766922e-03, 1.82818590e-03, 1.17019978e-03, 1.82818590e-03,\n",
       "        4.67766922e-03]])"
      ]
     },
     "execution_count": 56,
     "metadata": {},
     "output_type": "execute_result"
    }
   ],
   "source": [
    "(1-delta_H)*100"
   ]
  },
  {
   "cell_type": "markdown",
   "metadata": {},
   "source": [
    "## Z-Evolution"
   ]
  },
  {
   "cell_type": "code",
   "execution_count": 57,
   "metadata": {},
   "outputs": [],
   "source": [
    "with np.nditer(delta_Z, op_flags=['readwrite']) as it:\n",
    "    for x in it:\n",
    "           x[...] = z_evolution(x)"
   ]
  },
  {
   "cell_type": "code",
   "execution_count": 58,
   "metadata": {},
   "outputs": [
    {
     "data": {
      "text/plain": [
       "array([[3.73228322e-03, 1.45979784e-03, 9.34574230e-04, 1.45979784e-03,\n",
       "        3.73228322e-03],\n",
       "       [1.45979784e-03, 2.33667004e-04, 5.83421996e-05, 2.33667004e-04,\n",
       "        1.45979784e-03],\n",
       "       [9.34574230e-04, 5.83421996e-05, 1.79611881e-10, 5.83421996e-05,\n",
       "        9.34574230e-04],\n",
       "       [1.45979784e-03, 2.33667004e-04, 5.83421996e-05, 2.33667004e-04,\n",
       "        1.45979784e-03],\n",
       "       [3.73228322e-03, 1.45979784e-03, 9.34574230e-04, 1.45979784e-03,\n",
       "        3.73228322e-03]])"
      ]
     },
     "execution_count": 58,
     "metadata": {},
     "output_type": "execute_result"
    }
   ],
   "source": [
    "(1-delta_Z)*100"
   ]
  },
  {
   "cell_type": "markdown",
   "metadata": {},
   "source": [
    "## Plotting Results"
   ]
  },
  {
   "cell_type": "code",
   "execution_count": 62,
   "metadata": {},
   "outputs": [
    {
     "data": {
      "text/plain": [
       "Text(0.5, 1.0, 'Z-Gate %Error Fidelity')"
      ]
     },
     "execution_count": 62,
     "metadata": {},
     "output_type": "execute_result"
    },
    {
     "data": {
      "image/png": "[encoded data removed]",
      "text/plain": [
       "<Figure size 432x288 with 2 Axes>"
      ]
     },
     "metadata": {
      "needs_background": "light"
     },
     "output_type": "display_data"
    }
   ],
   "source": [
    "im = imshow((1-delta_Z)*100,cmap=cm.RdBu,extent=(-2.5*sep, 2.5*sep, 2.5*sep, -2.5*sep))\n",
    "colorbar(im)\n",
    "plt.xlabel('x/mm')\n",
    "plt.ylabel('y/mm')\n",
    "plt.title('Z-Gate %Error Fidelity')"
   ]
  },
  {
   "cell_type": "code",
   "execution_count": 61,
   "metadata": {},
   "outputs": [
    {
     "data": {
      "text/plain": [
       "Text(0.5, 1.0, 'Hadamard Gate %Error Fidelity')"
      ]
     },
     "execution_count": 61,
     "metadata": {},
     "output_type": "execute_result"
    },
    {
     "data": {
      "image/png": "[encoded data removed]",
      "text/plain": [
       "<Figure size 432x288 with 2 Axes>"
      ]
     },
     "metadata": {
      "needs_background": "light"
     },
     "output_type": "display_data"
    }
   ],
   "source": [
    "im = imshow((1-delta_H)*100,cmap=cm.RdBu,extent=(-2.5*sep, 2.5*sep, 2.5*sep, -2.5*sep))\n",
    "colorbar(im)\n",
    "plt.xlabel('x/mm')\n",
    "plt.ylabel('y/mm')\n",
    "plt.title('Hadamard Gate %Error Fidelity')"
   ]
  }
 ],
 "metadata": {
  "kernelspec": {
   "display_name": "Python 3",
   "language": "python",
   "name": "python3"
  },
  "language_info": {
   "codemirror_mode": {
    "name": "ipython",
    "version": 3
   },
   "file_extension": ".py",
   "mimetype": "text/x-python",
   "name": "python",
   "nbconvert_exporter": "python",
   "pygments_lexer": "ipython3",
   "version": "3.8.3"
  }
 },
 "nbformat": 4,
 "nbformat_minor": 4
}
