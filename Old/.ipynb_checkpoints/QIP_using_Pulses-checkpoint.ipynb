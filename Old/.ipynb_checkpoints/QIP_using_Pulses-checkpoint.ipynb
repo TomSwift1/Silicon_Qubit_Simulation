{
 "cells": [
  {
   "cell_type": "code",
   "execution_count": 4,
   "metadata": {},
   "outputs": [],
   "source": [
    "from qutip.qip.device import Processor\n",
    "from qutip import Qobj, identity, sigmax, sigmaz,sigmay\n",
    "import numpy as np\n",
    "import matplotlib.pyplot as plt"
   ]
  },
  {
   "cell_type": "code",
   "execution_count": 5,
   "metadata": {},
   "outputs": [],
   "source": [
    "proc = Processor(2)\n",
    "proc.add_control(sigmaz(), cyclic_permutation=True)  # sigmaz for all qubits\n",
    "proc.pulses[0].coeffs = np.array([1.0, 1.5, 2.0])\n",
    "proc.pulses[0].tlist = np.array([0.1, 0.2, 0.4, 0.5])"
   ]
  },
  {
   "cell_type": "code",
   "execution_count": null,
   "metadata": {},
   "outputs": [],
   "source": [
    "from qutip.qip.device import OptPulseProcesfrom qutip.operators \n",
    "import sigmaz, sigmax, sigfrom qutip.tensor \n",
    "import te# Same parameter for all the gates\n",
    "\n",
    "qc = QubitCircuit(N=1)\n",
    "qc.add_gate(\"SNOT\", 0)\n",
    "num_tslots = 10\n",
    "evo_time = 10\n",
    "processor = OptPulseProcessor(N=1, drift=sigmaz())\n",
    "processor.add_control(sigmax())\n",
    "# num_tslots and evo_time are two keyword arguments\n",
    "tlist, coeffs = processor.load_circuit(\n",
    "qc, num_tslots=num_tslots, evo_time=evo_time) # Different parameters for different gates\n",
    "qc = QubitCircuit(N=2)\n",
    "qc.add_gate(\"SNOT\", 0)\n",
    "qc.add_gate(\"SWAP\", targets=[0, 1])\n",
    "qc.add_gate('CNOT', controls=1, targets=[0])\n",
    "processor = OptPulseProcessor(N=2, drift=tensor([sigmaz()]*2))\n",
    "processor.add_control(sigmax(), cyclic_permutation=True)\n",
    "processor.add_control(sigmay(), cyclic_permutation=True)\n",
    "processor.add_control(tensor([sigmay(), sigmay()]))\n",
    "setting_args = {\"SNOT\": {\"num_tslots\": 10, \"evo_time\": 1},\n",
    "                \"SWAP\": {\"num_tslots\": 30, \"evo_time\": 3},\n",
    "                \"CNOT\": {\"num_tslots\": 30, \"evo_time\": 3}}\n",
    "tlist, coeffs = processor.load_circuit(\n",
    "qc, setting_args=setting_args, merge_gates=False)"
   ]
  }
 ],
 "metadata": {
  "kernelspec": {
   "display_name": "Python 3",
   "language": "python",
   "name": "python3"
  },
  "language_info": {
   "codemirror_mode": {
    "name": "ipython",
    "version": 3
   },
   "file_extension": ".py",
   "mimetype": "text/x-python",
   "name": "python",
   "nbconvert_exporter": "python",
   "pygments_lexer": "ipython3",
   "version": "3.8.3"
  }
 },
 "nbformat": 4,
 "nbformat_minor": 4
}
